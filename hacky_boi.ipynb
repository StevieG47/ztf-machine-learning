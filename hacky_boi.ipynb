{
  "nbformat": 4,
  "nbformat_minor": 0,
  "metadata": {
    "colab": {
      "name": "hacky_boi.ipynb",
      "version": "0.3.2",
      "provenance": [],
      "private_outputs": true,
      "collapsed_sections": []
    },
    "kernelspec": {
      "name": "python3",
      "display_name": "Python 3"
    },
    "accelerator": "GPU"
  },
  "cells": [
    {
      "metadata": {
        "id": "Vx6lP1S0OM01",
        "colab_type": "code",
        "colab": {}
      },
      "cell_type": "code",
      "source": [
        ""
      ],
      "execution_count": 0,
      "outputs": []
    },
    {
      "metadata": {
        "id": "Wj_CxLFNufew",
        "colab_type": "code",
        "colab": {}
      },
      "cell_type": "code",
      "source": [
        "#Import python libraries\n",
        "\n",
        "import os\n",
        "import io\n",
        "import gzip\n",
        "import numpy as np\n",
        "import pandas as pd\n",
        "import matplotlib.pyplot as plt\n",
        "import scipy\n",
        "#from astropy.io import fits\n",
        "#import aplpy\n",
        "from astropy.time import Time\n",
        "#from avro.datafile import DataFileReader, DataFileWriter\n",
        "#from avro.io import DatumReader, DatumWriter\n",
        "import fastavro\n",
        "\n"
      ],
      "execution_count": 0,
      "outputs": []
    },
    {
      "metadata": {
        "id": "Gk820o5IusJc",
        "colab_type": "code",
        "colab": {}
      },
      "cell_type": "code",
      "source": [
        "#Shared python definitions\n",
        "\n",
        "\n",
        "#schema\n",
        "\n",
        "def make_dataframe(packet):\n",
        "    df = pd.DataFrame(packet['candidate'], index=[0])\n",
        "    df_prv = pd.DataFrame(packet['prv_candidates'])\n",
        "    return pd.concat([df,df_prv], ignore_index=True)\n",
        "  \n",
        "\n",
        "  \n",
        "# def plot_lightcurve(dflc, days_ago=True):\n",
        "    \n",
        "#     filter_color = {1:'green', 2:'red', 3:'pink'}\n",
        "#     if days_ago:\n",
        "#         now = Time.now().jd\n",
        "#         t = dflc.jd - now\n",
        "#         xlabel = 'Days Ago'\n",
        "#     else:\n",
        "#         t = dflc.jd\n",
        "#         xlabel = 'Time (JD)'\n",
        "    \n",
        "#     plt.figure()\n",
        "#     for fid, color in filter_color.items():\n",
        "#         # plot detections in this filter:\n",
        "#         w = (dflc.fid == fid) & ~dflc.magpsf.isnull()\n",
        "#         if np.sum(w):\n",
        "#             plt.errorbar(t[w],dflc.loc[w,'magpsf'], dflc.loc[w,'sigmapsf'],fmt='.',color=color)\n",
        "#         wnodet = (dflc.fid == fid) & dflc.magpsf.isnull()\n",
        "#         if np.sum(wnodet):\n",
        "#             plt.scatter(t[wnodet],dflc.loc[wnodet,'diffmaglim'], marker='v',color=color,alpha=0.25)\n",
        "    \n",
        "#     plt.gca().invert_yaxis()\n",
        "#     plt.xlabel(xlabel)\n",
        "#     plt.ylabel('Magnitude')\n",
        "    "
      ],
      "execution_count": 0,
      "outputs": []
    },
    {
      "metadata": {
        "id": "mb-MC37025Cx",
        "colab_type": "code",
        "colab": {}
      },
      "cell_type": "code",
      "source": [
        "##Lightcurve class handles reading in .avro files and stores them in the class\n",
        "\n",
        "class lightcurve:\n",
        "   def __init__(self, avro_filename):\n",
        "      fake = 0\n",
        "      with open(avro_filename,'rb') as f: #Load data from avro file\n",
        "        freader = fastavro.reader(f)\n",
        "        schema = freader.schema\n",
        "        for packet in freader:\n",
        "            fake = 0;\n",
        "\n",
        "      \n",
        "      dflc = make_dataframe(packet) #Remove \"null\" datapoints, any band besides R band, and bad data points\n",
        "      gooddata =  ~dflc.magpsf.isnull() & (dflc.fid == 2) & (dflc.rb > 0.2)\n",
        "      \n",
        "      self.jd = dflc.jd[gooddata].astype('float') #Store time (jd), magnitude, and standard deviation of mag. in object\n",
        "      self.mag = pd.to_numeric(dflc.loc[gooddata,'magpsf'])\n",
        "      self.sigma = pd.to_numeric(dflc.loc[gooddata,'sigmapsf'])\n",
        "      self.name = dflc.pid #Remember name of file\n",
        "      self.rb = pd.to_numeric(dflc.rb)\n",
        "   def plot(self,  days_ago=True, color='black'):    \n",
        "    if days_ago:\n",
        "        now = Time.now().jd\n",
        "        t = self.jd - now\n",
        "        xlabel = 'Days Ago'\n",
        "    else:\n",
        "        t = self.jd\n",
        "        xlabel = 'Time (JD)'\n",
        "    #plt.figure()\n",
        "    plt.errorbar(t, self.mag, self.sigma, fmt='.', color=color)    \n",
        "    plt.gca().invert_yaxis()\n",
        "    plt.xlabel(xlabel)\n",
        "    plt.ylabel('Magnitude')"
      ],
      "execution_count": 0,
      "outputs": []
    },
    {
      "metadata": {
        "id": "DiC0TvsbhlyW",
        "colab_type": "code",
        "colab": {}
      },
      "cell_type": "code",
      "source": [
        "#Plot a lightcurve example\n",
        "\n",
        "with open('2018_11_10_678165691815010013.avro','rb') as f:\n",
        "    freader = fastavro.reader(f)\n",
        "    schema = freader.schema\n",
        "\n",
        "    for packet in freader:\n",
        "        print(packet.keys())\n",
        "\n",
        "\n",
        "dflc = make_dataframe(packet)\n",
        "#dflc\n",
        "\n",
        "\n",
        "plot_lightcurve(dflc)"
      ],
      "execution_count": 0,
      "outputs": []
    },
    {
      "metadata": {
        "id": "Q8aqJK3chUPc",
        "colab_type": "text"
      },
      "cell_type": "markdown",
      "source": [
        ""
      ]
    },
    {
      "metadata": {
        "id": "RYhDKfamaK75",
        "colab_type": "code",
        "colab": {}
      },
      "cell_type": "code",
      "source": [
        "'''\n",
        "DATA: https://ztf.uw.edu/alerts/public/\n",
        "'''\n",
        "'''\n",
        "How to get Intermediate Transit Factory Lightcurve Data https://www.ptf.caltech.edu/page/lcgui\n",
        "'''"
      ],
      "execution_count": 0,
      "outputs": []
    },
    {
      "metadata": {
        "id": "FNFOFdEruT1X",
        "colab_type": "code",
        "colab": {}
      },
      "cell_type": "code",
      "source": [
        "#!pip install avro-python3\n",
        "#!pip install fastavro\n",
        "!pip install astropy\n",
        "\n"
      ],
      "execution_count": 0,
      "outputs": []
    },
    {
      "metadata": {
        "id": "5Y4rQthvbGk4",
        "colab_type": "code",
        "colab": {}
      },
      "cell_type": "code",
      "source": [
        "!pip install avro-python3\n",
        "!pip install fastavro\n",
        "!pip install astropy\n"
      ],
      "execution_count": 0,
      "outputs": []
    },
    {
      "metadata": {
        "id": "C6ua1sF8ZmJh",
        "colab_type": "code",
        "colab": {}
      },
      "cell_type": "code",
      "source": [
        "#Kyle's plot the light curves code\n",
        "\n",
        "datadir = 'ztf_public_20180730'\n",
        "mega_filelist = os.listdir(datadir)\n",
        "n = len(mega_filelist)\n",
        "counter = 0\n",
        "for fn in mega_filelist:\n",
        "  counter += 1\n",
        "  if fn.endswith(\".avro\"):\n",
        "    l = lightcurve(datadir+'/'+fn)\n",
        "    if (len(l.jd) > 10):\n",
        "      s = scipy.stats.linregress(l.jd,l.mag)\n",
        "      if True:\n",
        "      #if s.slope > 0. and s.rvalue > 0.8 :\n",
        "          print(str(counter)+'/'+str(n))\n",
        "          print(s)\n",
        "          plt.figure()\n",
        "          plt.plot(l.jd, s.intercept + s.slope*l.jd)\n",
        "          l.plot(days_ago=False)\n",
        "          plt.show()"
      ],
      "execution_count": 0,
      "outputs": []
    },
    {
      "metadata": {
        "id": "4hJMhg_3uNuL",
        "colab_type": "code",
        "colab": {}
      },
      "cell_type": "code",
      "source": [
        "#Hayden's mess. DO NOT TOUCH\n",
        "\n",
        "l = lightcurve('2018_11_10_678165691815010013.avro')\n",
        "\n",
        "#scipy.stats.linregress(l.jd,l.mag)\n",
        "#l.plot()\n",
        "\n",
        "for fn in os.listdir():\n",
        "  if fn.endswith(\".avro\"):\n",
        "    l = lightcurve(fn)\n",
        "    if (len(l.jd) > 1):\n",
        "      s = scipy.stats.linregress(l.jd,l.mag)\n",
        "      print(s)\n",
        "      #if (s.slope  < .1 and s.intercept > 0): #and s.rvalue)\n",
        "      #print(s.slope)\n",
        "      #print(s.intercept)\n",
        "\n",
        "#for filename in '':\n",
        "#    if filename.endswith(\".asm\") or filename.endswith(\".py\"): "
      ],
      "execution_count": 0,
      "outputs": []
    },
    {
      "metadata": {
        "id": "ZnEZUvO_trk1",
        "colab_type": "code",
        "colab": {}
      },
      "cell_type": "code",
      "source": [
        "fname = '670549885515010000.avro'\n",
        "with open(fname,'rb') as f:\n",
        "    freader = fastavro.reader(f)\n",
        "    schema = freader.schema\n",
        "\n",
        "    for packet in freader:\n",
        "        print(packet.keys())\n",
        "def make_dataframe(packet):\n",
        "    df = pd.DataFrame(packet['candidate'], index=[0])\n",
        "    df_prv = pd.DataFrame(packet['prv_candidates'])\n",
        "    return pd.concat([df,df_prv], ignore_index=True)\n",
        "  \n",
        "dflc = make_dataframe(packet)\n",
        "dflc.head()\n",
        "#l = lightcurve('670549885515010000.avro')\n",
        "#print(l.jd)\n",
        "#print(l.mag)\n",
        "#l.plot()"
      ],
      "execution_count": 0,
      "outputs": []
    },
    {
      "metadata": {
        "id": "_0Zz6BPshXrR",
        "colab_type": "code",
        "colab": {}
      },
      "cell_type": "code",
      "source": [
        "import numpy as np\n",
        "import matplotlib.pyplot as plt\n",
        "import pandas as pd\n",
        "import tensorflow as tdf\n",
        "import avro\n",
        "\n",
        "#from avro.datafile import DataFileReader, DataFileWriter\n",
        "#from avro.io import DatumReader, DatumWriter\n",
        "import fastavro\n"
      ],
      "execution_count": 0,
      "outputs": []
    },
    {
      "metadata": {
        "id": "IqHS8aeLpMM_",
        "colab_type": "code",
        "colab": {}
      },
      "cell_type": "code",
      "source": [
        ""
      ],
      "execution_count": 0,
      "outputs": []
    },
    {
      "metadata": {
        "id": "ZLGMi1JoEBQf",
        "colab_type": "code",
        "colab": {}
      },
      "cell_type": "code",
      "source": [
        ""
      ],
      "execution_count": 0,
      "outputs": []
    },
    {
      "metadata": {
        "id": "U0vnmcVmEBZV",
        "colab_type": "code",
        "colab": {}
      },
      "cell_type": "code",
      "source": [
        "#ml\n",
        "import tensorflow as tf\n",
        "device_name = tf.test.gpu_device_name()\n",
        "if device_name != '/device:GPU:0':\n",
        "  raise SystemError('GPU device not found')\n",
        "print('Found GPU at: {}'.format(device_name))\n",
        "\n",
        "# read data\n",
        "import pandas as pd\n",
        "data = pd.read_pickle(\"training_set.txt\")\n",
        "data.head()\n",
        "\n",
        "# imports\n",
        "import numpy as np\n",
        "import matplotlib.pyplot as plt\n",
        "import keras\n",
        "from keras.models import Sequential # Linear stack of layers\n",
        "from keras.layers import Dense, Dropout, Activation, Flatten \n",
        "from keras.layers.recurrent import LSTM\n",
        "from keras.utils import np_utils # for transforming data\n",
        "#from livelossplot import PlotLossesKeras\n",
        "from keras.models import Sequential\n",
        "from keras.layers.embeddings import Embedding\n",
        "from keras.preprocessing import sequence\n",
        "\n",
        "from sklearn.cross_validation import train_test_split\n",
        "from sklearn.preprocessing import MinMaxScaler\n",
        "from sklearn.metrics import mean_squared_error\n",
        "from sklearn.utils import shuffle\n",
        "\n",
        "from sklearn.model_selection import train_test_split\n",
        "\n",
        "\n",
        "\n"
      ],
      "execution_count": 0,
      "outputs": []
    },
    {
      "metadata": {
        "id": "2rcdWtltEX8N",
        "colab_type": "code",
        "colab": {}
      },
      "cell_type": "code",
      "source": [
        "#ml\n",
        "agn0 = data[data.type == 1]\n",
        "s =   data[data.type == 2]\n",
        "\n",
        "\n",
        "# Into numpy array\n",
        "agn = np.asarray(agn0)\n",
        "s = np.asarray(s)\n",
        "s = s[0:234,:] # make same size as agn, dont hardcode\n",
        "\n",
        "# labels\n",
        "agn_lab = agn[:,0]\n",
        "s_lab   =   s[:,0]\n",
        "\n",
        "# data\n",
        "agn_data = agn[:,2]\n",
        "s_data =     s[:,2]\n",
        "\n",
        "# labels one hot boi\n",
        "s_lab[:] = 0 # keras one hot needs 0 indexing\n",
        "lab = np.hstack((s_lab,agn_lab))\n",
        "lab = np.reshape(lab,(468,1))\n",
        "y = keras.utils.to_categorical(lab,num_classes=2)\n",
        "\n",
        "print(agn_data.shape)\n",
        "print(s_data.shape)\n",
        "print(y.shape)"
      ],
      "execution_count": 0,
      "outputs": []
    },
    {
      "metadata": {
        "id": "6cDLVIlGPViB",
        "colab_type": "code",
        "colab": {}
      },
      "cell_type": "code",
      "source": [
        "v = data[data.type == 3]\n",
        "v = np.asarray(v)\n",
        "print(v.shape)"
      ],
      "execution_count": 0,
      "outputs": []
    },
    {
      "metadata": {
        "id": "i_9TVwnBEhcQ",
        "colab_type": "code",
        "colab": {}
      },
      "cell_type": "code",
      "source": [
        "#ml\n",
        "from keras.preprocessing import sequence\n",
        "from keras.models import Sequential\n",
        "from keras.layers import Dense, Embedding\n",
        "from keras.layers import LSTM\n",
        "from keras.datasets import imdb\n",
        "\n",
        "# add padding for time steps\n",
        "maxlen = 50\n",
        "agn_pad = sequence.pad_sequences(agn_data, maxlen=maxlen)\n",
        "s_pad = sequence.pad_sequences(s_data, maxlen=maxlen)\n",
        "print(agn_pad.shape)\n",
        "print(s_pad.shape)\n",
        "\n",
        "# make x\n",
        "x = np.vstack((s_pad,agn_pad))\n",
        "print(x.shape)\n",
        "\n",
        "# Test train split\n",
        "X_train, X_test, y_train, y_test = train_test_split( \n",
        "        x, y, test_size=0.15)\n",
        "\n",
        "X_train = np.reshape(X_train,(X_train.shape[0],X_train.shape[1],1))\n",
        "X_test = np.reshape(X_test,(X_test.shape[0],X_test.shape[1],1))\n",
        "\n",
        "\n",
        "print(X_train.shape)\n",
        "print(X_test.shape)\n",
        "print(y_train.shape)"
      ],
      "execution_count": 0,
      "outputs": []
    },
    {
      "metadata": {
        "id": "kR3jDk9jEmPE",
        "colab_type": "code",
        "colab": {}
      },
      "cell_type": "code",
      "source": [
        "#ml\n",
        "# model\n",
        "num_classes = 2\n",
        "#inputDim = 2\n",
        "model = Sequential()\n",
        "batch_size = 1\n",
        "\n",
        "model.add(LSTM(5, batch_input_shape = (batch_size,50,1), return_sequences=True, stateful=True))\n",
        "#model.add(LSTM(60, return_sequences=True, stateful=True))\n",
        "model.add(LSTM(5, stateful=True))\n",
        "\n",
        "model.add(Dense(num_classes, activation='softmax'))\n",
        "\n",
        "#model.compile(loss = \"mean_squared_error\", optimizer = \"adam\")\n",
        "model.compile(loss='categorical_crossentropy', optimizer='adam', metrics=['accuracy'])\n",
        "\n",
        "#model.fit(train_X, train_Y, epochs = 100, batch_size = 10, verbose = 2)\n",
        "model.fit(X_train, y_train, validation_data=(X_test,y_test), epochs=105, batch_size=1,verbose = 2)\n",
        "\n",
        "score = model.evaluate(X_test, y_test, batch_size=1)\n",
        "print(score)"
      ],
      "execution_count": 0,
      "outputs": []
    },
    {
      "metadata": {
        "id": "aUJGAS7gTRND",
        "colab_type": "code",
        "colab": {}
      },
      "cell_type": "code",
      "source": [
        "#model = keras.models.load_model('model.hd5')\n",
        "\n",
        "#l = lightcurve('575406494915010184.avro')\n",
        "#mag = l.mag\n",
        "# add padding for time steps\n",
        "#maxlen = 50\n",
        "#mag_pad = sequence.pad_sequences(mag_data, maxlen=maxlen)\n",
        "#data = np.reshape(mag_pad,(mag_pad.shape[0],mag_pad.shape[1],1))\n",
        "test = X_test[0,:,:]\n",
        "test = sequence.pad_sequences(test, maxlen=50)\n",
        "test = np.reshape(test,(test.shape[0],test.shape[1],1))\n",
        "print(test.shape)\n",
        "model.predict(test,batch_size = 1)\n"
      ],
      "execution_count": 0,
      "outputs": []
    },
    {
      "metadata": {
        "id": "U0updAjNo2XK",
        "colab_type": "text"
      },
      "cell_type": "markdown",
      "source": [
        ""
      ]
    }
  ]
}