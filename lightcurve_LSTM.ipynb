{
 "cells": [
  {
   "cell_type": "code",
   "execution_count": 22,
   "metadata": {
    "colab": {},
    "colab_type": "code",
    "id": "Vx6lP1S0OM01"
   },
   "outputs": [],
   "source": [
    "# Run once if needed\n",
    "#!pip install avro-python3\n",
    "#!pip install fastavro\n",
    "#!pip install astropy"
   ]
  },
  {
   "cell_type": "code",
   "execution_count": 23,
   "metadata": {
    "colab": {},
    "colab_type": "code",
    "id": "Wj_CxLFNufew"
   },
   "outputs": [],
   "source": [
    "#Import python libraries\n",
    "import os\n",
    "import io\n",
    "import gzip\n",
    "import numpy as np\n",
    "import pandas as pd\n",
    "import matplotlib.pyplot as plt\n",
    "import scipy\n",
    "import fastavro\n",
    "#import aplpy\n",
    "\n",
    "from astropy.time import Time\n",
    "from astropy.modeling import models, fitting\n",
    "from astropy.stats import sigma_clip\n",
    "#from avrhttp://localhost:8888/notebooks/hacky_boi.ipynb#o.datafile import DataFileReader, DataFileWriter\n",
    "#from avro.io import DatumReader, DatumWriter\n",
    "#import aplpy"
   ]
  },
  {
   "cell_type": "markdown",
   "metadata": {},
   "source": [
    "# Handling data"
   ]
  },
  {
   "cell_type": "code",
   "execution_count": 24,
   "metadata": {
    "colab": {},
    "colab_type": "code",
    "id": "mb-MC37025Cx"
   },
   "outputs": [],
   "source": [
    "# For making pandas dataframe from packet in .avro\n",
    "def make_dataframe(packet):\n",
    "    df = pd.DataFrame(packet['candidate'], index=[0])\n",
    "    df_prv = pd.DataFrame(packet['prv_candidates'])\n",
    "    return pd.concat([df,df_prv], ignore_index=True)  \n",
    "\n",
    "# Lightcurve class handles reading in .avro files and stores them in the class\n",
    "class lightcurve:\n",
    "   def __init__(self, avro_filename):\n",
    "      fake = 0\n",
    "      self.name = avro_filename # name of file\n",
    "      \n",
    "      # Load data from .avro\n",
    "      with open(avro_filename,'rb') as f:\n",
    "        freader = fastavro.reader(f)\n",
    "        schema = freader.schema\n",
    "        #print('N packets = ', size(freader))\n",
    "        for packet in freader:\n",
    "            fake = 0;\n",
    "\n",
    "      # Remove \"null\" datapoints, any band besides R band, and bad data points\n",
    "      dflc = make_dataframe(packet) \n",
    "      gooddata =  ~dflc.magpsf.isnull() & (dflc.fid == 2) & (dflc.rb > 0.2) # Remove everything but r band\n",
    "\n",
    "      # Store time (jd), magnitude, and standard deviation of mag in object\n",
    "      jd = dflc.jd.values[gooddata] \n",
    "      mag = pd.to_numeric(dflc.loc[gooddata,'magpsf']).values\n",
    "      sigma = pd.to_numeric(dflc.loc[gooddata,'sigmapsf']).values\n",
    "    \n",
    "      # Put all points in order of time\n",
    "      rb = pd.to_numeric(dflc.rb)\n",
    "      sort_i = jd.argsort() \n",
    "      self.jd = jd[sort_i]\n",
    "      self.mag = mag[sort_i]\n",
    "      self.sigma = sigma[sort_i]\n",
    "      self.rb = rb[sort_i]\n",
    "    \n",
    "   # Plotting the curve\n",
    "   def plot(self,  days_ago=True, color='black'):    \n",
    "      if days_ago:\n",
    "           now = Time.now().jd\n",
    "           t = self.jd - now\n",
    "           xlabel = 'Days Ago'\n",
    "      else:\n",
    "           t = self.jd\n",
    "           xlabel = 'Time (JD)'\n",
    "    \n",
    "      plt.errorbar(t, self.mag, self.sigma, fmt='.', color=color)    \n",
    "      plt.gca().invert_yaxis()\n",
    "      plt.xlabel(xlabel)\n",
    "      plt.ylabel('Magnitude')"
   ]
  },
  {
   "cell_type": "markdown",
   "metadata": {},
   "source": [
    "### Get some data from here: https://ztf.uw.edu/alerts/public/"
   ]
  },
  {
   "cell_type": "code",
   "execution_count": 25,
   "metadata": {
    "colab": {},
    "colab_type": "code",
    "id": "DiC0TvsbhlyW"
   },
   "outputs": [],
   "source": [
    "# Lightcurve example\n",
    "#avroFile = '2018_11_10_678165691815010013.avro'\n",
    "#with open(avroFile,'rb') as f:\n",
    "#    freader = fastavro.reader(f)\n",
    "    #schema = freader.schema\n",
    "\n",
    "#    for packet in freader:\n",
    "#        print(packet.keys())\n",
    "#\n",
    "## look at the data\n",
    "#dflc = make_dataframe(packet)\n",
    "#dflc.head()"
   ]
  },
  {
   "cell_type": "code",
   "execution_count": 26,
   "metadata": {
    "colab": {},
    "colab_type": "code",
    "id": "RYhDKfamaK75"
   },
   "outputs": [],
   "source": [
    "# Plot the curve\n",
    "#plot_lightcurve(dflc)"
   ]
  },
  {
   "cell_type": "markdown",
   "metadata": {
    "colab": {},
    "colab_type": "code",
    "id": "ZLGMi1JoEBQf"
   },
   "source": [
    "# LSTM networks for time series data\n",
    "Use ptf lightcurve data to train an lstm network "
   ]
  },
  {
   "cell_type": "code",
   "execution_count": 27,
   "metadata": {},
   "outputs": [
    {
     "name": "stdout",
     "output_type": "stream",
     "text": [
      "GPU device not found\n"
     ]
    }
   ],
   "source": [
    "# GPU check\n",
    "import tensorflow as tf\n",
    "device_name = tf.test.gpu_device_name()\n",
    "if device_name != '/device:GPU:0':\n",
    "    print('GPU device not found')\n",
    "else:\n",
    "    print('Found GPU at: {}'.format(device_name))"
   ]
  },
  {
   "cell_type": "markdown",
   "metadata": {},
   "source": [
    "## Load training data from ptf\n",
    "-Currently don't have labeled ztf data\n",
    "\n",
    "-Data read as pickle file\n",
    "\n",
    "-Contains type, time, magnitude\n",
    "\n",
    "## Types:\n",
    "1. AGN\n",
    "2. Supernova\n",
    "3. Variable Stars"
   ]
  },
  {
   "cell_type": "code",
   "execution_count": 28,
   "metadata": {
    "colab": {},
    "colab_type": "code",
    "id": "U0vnmcVmEBZV"
   },
   "outputs": [
    {
     "data": {
      "text/html": [
       "<div>\n",
       "<style scoped>\n",
       "    .dataframe tbody tr th:only-of-type {\n",
       "        vertical-align: middle;\n",
       "    }\n",
       "\n",
       "    .dataframe tbody tr th {\n",
       "        vertical-align: top;\n",
       "    }\n",
       "\n",
       "    .dataframe thead th {\n",
       "        text-align: right;\n",
       "    }\n",
       "</style>\n",
       "<table border=\"1\" class=\"dataframe\">\n",
       "  <thead>\n",
       "    <tr style=\"text-align: right;\">\n",
       "      <th></th>\n",
       "      <th>type</th>\n",
       "      <th>time</th>\n",
       "      <th>mag</th>\n",
       "    </tr>\n",
       "  </thead>\n",
       "  <tbody>\n",
       "    <tr>\n",
       "      <th>0</th>\n",
       "      <td>1</td>\n",
       "      <td>[56786.448, 56786.476, 56787.454, 56787.484, 5...</td>\n",
       "      <td>[12.884983465735825, 12.699984669427256, 12.33...</td>\n",
       "    </tr>\n",
       "    <tr>\n",
       "      <th>1</th>\n",
       "      <td>1</td>\n",
       "      <td>[57537.462, 57544.448, 57544.448, 57548.458, 5...</td>\n",
       "      <td>[11.669014494545063, 16.58897151134629, 8.6199...</td>\n",
       "    </tr>\n",
       "    <tr>\n",
       "      <th>2</th>\n",
       "      <td>1</td>\n",
       "      <td>[56338.563, 56370.464, 56374.445, 56374.475, 5...</td>\n",
       "      <td>[7.457004922589953, 2.80779343375397, 31.92399...</td>\n",
       "    </tr>\n",
       "    <tr>\n",
       "      <th>3</th>\n",
       "      <td>1</td>\n",
       "      <td>[56505.46, 56511.266, 56516.253, 56519.273, 56...</td>\n",
       "      <td>[10.094977617229535, 5.250029874045033, 3.3913...</td>\n",
       "    </tr>\n",
       "    <tr>\n",
       "      <th>4</th>\n",
       "      <td>1</td>\n",
       "      <td>[56521.363, 56549.233, 56566.112, 56596.113]</td>\n",
       "      <td>[6.102023335304666, 6.5719951880780325, 5.2973...</td>\n",
       "    </tr>\n",
       "  </tbody>\n",
       "</table>\n",
       "</div>"
      ],
      "text/plain": [
       "   type                                               time  \\\n",
       "0     1  [56786.448, 56786.476, 56787.454, 56787.484, 5...   \n",
       "1     1  [57537.462, 57544.448, 57544.448, 57548.458, 5...   \n",
       "2     1  [56338.563, 56370.464, 56374.445, 56374.475, 5...   \n",
       "3     1  [56505.46, 56511.266, 56516.253, 56519.273, 56...   \n",
       "4     1       [56521.363, 56549.233, 56566.112, 56596.113]   \n",
       "\n",
       "                                                 mag  \n",
       "0  [12.884983465735825, 12.699984669427256, 12.33...  \n",
       "1  [11.669014494545063, 16.58897151134629, 8.6199...  \n",
       "2  [7.457004922589953, 2.80779343375397, 31.92399...  \n",
       "3  [10.094977617229535, 5.250029874045033, 3.3913...  \n",
       "4  [6.102023335304666, 6.5719951880780325, 5.2973...  "
      ]
     },
     "execution_count": 28,
     "metadata": {},
     "output_type": "execute_result"
    }
   ],
   "source": [
    "# Read and examine data\n",
    "data = pd.read_pickle(\"training_set.txt\")\n",
    "data.head()"
   ]
  },
  {
   "cell_type": "code",
   "execution_count": 29,
   "metadata": {},
   "outputs": [],
   "source": [
    "# ml imports\n",
    "import keras\n",
    "from keras.models import Sequential\n",
    "from keras.layers import Dense, Dropout, Activation, Flatten \n",
    "from keras.layers.recurrent import LSTM\n",
    "from keras.utils import np_utils\n",
    "from keras.models import Sequential\n",
    "from keras.layers.embeddings import Embedding\n",
    "from keras.preprocessing import sequence\n",
    "\n",
    "from sklearn.cross_validation import train_test_split\n",
    "from sklearn.preprocessing import MinMaxScaler\n",
    "from sklearn.metrics import mean_squared_error\n",
    "from sklearn.utils import shuffle\n",
    "from sklearn.model_selection import train_test_split\n",
    "\n",
    "#from livelossplot import PlotLossesKeras"
   ]
  },
  {
   "cell_type": "markdown",
   "metadata": {},
   "source": [
    "## Prepare data\n",
    "TODO: Remove training data with less than n points then do resizing stuff, some only have 1/2 points\n",
    "Those with like 1/2 points will be pretty useless for training"
   ]
  },
  {
   "cell_type": "code",
   "execution_count": 34,
   "metadata": {
    "colab": {},
    "colab_type": "code",
    "id": "2rcdWtltEX8N"
   },
   "outputs": [
    {
     "name": "stdout",
     "output_type": "stream",
     "text": [
      "Num points before filtering:\n",
      "s:    (872, 3)\n",
      "agn:  (234, 3)\n",
      "vs:   (9332, 3)\n",
      "\n",
      "Shape after filtering:\n",
      "s:    (728, 3)\n",
      "agn:  (196, 3)\n",
      "vs:   (6709, 3)\n"
     ]
    }
   ],
   "source": [
    "# Separate into types\n",
    "agn0 = data[data.type == 1] # agn\n",
    "s    = data[data.type == 2] # supernova\n",
    "vs   = data[data.type == 3] # var stars\n",
    "\n",
    "# Into numpy array\n",
    "agn = np.asarray(agn0) # len(agn) = 234\n",
    "s   = np.asarray(s)    # len(s)   = 872\n",
    "vs  = np.asarray(vs)   # len(vs)  = 9332\n",
    "\n",
    "# Shape of data before filtering out low # points \n",
    "print('Num points before filtering:')\n",
    "print('s:   ',s.shape)\n",
    "print('agn: ',agn.shape)\n",
    "print('vs:  ',vs.shape) \n",
    "\n",
    "# Remove lightcurves with small num of points\n",
    "minPoints = 6\n",
    "s_good = []\n",
    "for i in range(len(s)-1):\n",
    "    if len(s[i,2]) > minPoints:\n",
    "        s_good.append(s[i,:])\n",
    "\n",
    "agn_good = []\n",
    "for i in range(len(agn)-1):\n",
    "    if len(agn[i,2]) > minPoints:\n",
    "        agn_good.append(agn[i])\n",
    "\n",
    "vs_good = []\n",
    "for i in range(len(vs)-1):\n",
    "    if len(vs[i,2]) > minPoints:\n",
    "        vs_good.append(vs[i])\n",
    "        \n",
    "s   = np.asarray(s_good)\n",
    "agn = np.asarray(agn_good)\n",
    "vs  = np.asarray(vs_good)\n",
    "\n",
    "# Shape of data after filtering out low # points \n",
    "print('\\nNum points after filtering:')\n",
    "print('s:   ',s.shape)\n",
    "print('agn: ', agn.shape)\n",
    "print('vs:  ',vs.shape) "
   ]
  },
  {
   "cell_type": "markdown",
   "metadata": {},
   "source": [
    "### Deal with disproportionate data"
   ]
  },
  {
   "cell_type": "code",
   "execution_count": 35,
   "metadata": {},
   "outputs": [],
   "source": [
    "# Resize to keep equal num of data points\n",
    "#TODO: find a way to use disproportionate data (use minSize random samples from each after each epoch for training?)\n",
    "minSize = min(len(agn),len(s),len(vs))\n",
    "agn = agn[0:minSize,:]\n",
    "s   = s[0:minSize,:] \n",
    "vs  = vs[0:minSize,:]\n",
    "\n",
    "# Separate labels and data\n",
    "# Only grabbing magnitude for data\n",
    "agn_lab  = agn[:,0]\n",
    "agn_data = agn[:,2]\n",
    "\n",
    "s_lab   =   s[:,0]\n",
    "s_data  =   s[:,2]\n",
    "\n",
    "vs_lab   = vs[:,0]\n",
    "vs_data  = vs[:,2]        "
   ]
  },
  {
   "cell_type": "markdown",
   "metadata": {},
   "source": [
    "### Examine num points in lightcurve data"
   ]
  },
  {
   "cell_type": "code",
   "execution_count": 36,
   "metadata": {},
   "outputs": [
    {
     "name": "stdout",
     "output_type": "stream",
     "text": [
      "Median # points in supernova curves:  35.0\n",
      "Mean # points in supernova curves:    53.86224489795919\n",
      "\n",
      "Median # points in agn curves:  47.0\n",
      "Mean # points in agn curves:    87.86224489795919\n",
      "\n",
      "Median # points in var star curves:  27.0\n",
      "Mean # points in var star curves:    53.933673469387756\n",
      "\n",
      "Median #:  36.0\n",
      "Mean #:    65.21938775510205\n"
     ]
    }
   ],
   "source": [
    "# View size of lc data\n",
    "all_lens = []\n",
    "\n",
    "s_lens = []\n",
    "for i in range(len(s_data)):\n",
    "    s_lens.append(len(s_data[i]))\n",
    "    all_lens.append(len(s_data[i]))\n",
    "print('Median # points in supernova curves: ',np.median(s_lens))\n",
    "print('Mean # points in supernova curves:   ',np.mean(s_lens))\n",
    "                                                      \n",
    "agn_lens = []\n",
    "for i in range(len(agn_data)):\n",
    "    agn_lens.append(len(agn_data[i]))\n",
    "    all_lens.append(len(agn_data[i]))\n",
    "print('\\nMedian # points in agn curves: ',np.median(agn_lens))\n",
    "print('Mean # points in agn curves:   ',np.mean(agn_lens))\n",
    "                                                      \n",
    "vs_lens = []\n",
    "for i in range(len(vs_data)):\n",
    "    vs_lens.append(len(vs_data[i]))\n",
    "    all_lens.append(len(vs_data[i]))\n",
    "print('\\nMedian # points in var star curves: ',np.median(vs_lens))\n",
    "print('Mean # points in var star curves:   ',np.mean(vs_lens))\n",
    "\n",
    "print('\\nMedian #: ',np.median(all_lens))\n",
    "print('Mean #:   ',np.mean(all_lens))\n",
    "medianP = np.median(all_lens)\n",
    "meanP   = np.mean(all_lens)"
   ]
  },
  {
   "cell_type": "markdown",
   "metadata": {},
   "source": [
    "### View some training plots"
   ]
  },
  {
   "cell_type": "code",
   "execution_count": 52,
   "metadata": {},
   "outputs": [
    {
     "name": "stdout",
     "output_type": "stream",
     "text": [
      "(49,) (49,)\n",
      "(170,) (170,)\n",
      "(10,) (10,)\n"
     ]
    },
    {
     "data": {
      "text/plain": [
       "Text(0.5,1,'var star example')"
      ]
     },
     "execution_count": 52,
     "metadata": {},
     "output_type": "execute_result"
    },
    {
     "data": {
      "image/png": "[encoded data removed]",
      "text/plain": [
       "<Figure size 432x288 with 1 Axes>"
      ]
     },
     "metadata": {},
     "output_type": "display_data"
    },
    {
     "data": {
      "image/png": "[encoded data removed]",
      "text/plain": [
       "<Figure size 432x288 with 1 Axes>"
      ]
     },
     "metadata": {},
     "output_type": "display_data"
    },
    {
     "data": {
      "image/png": "[encoded data removed]",
      "text/plain": [
       "<Figure size 432x288 with 1 Axes>"
      ]
     },
     "metadata": {},
     "output_type": "display_data"
    }
   ],
   "source": [
    "# supernova\n",
    "steps = np.linspace(1,len(s_data[0]-1),num = len(s_data[0]))\n",
    "plt.scatter(steps,s_data[0])\n",
    "plt.title('supernova example')\n",
    "\n",
    "# agn\n",
    "plt.figure()\n",
    "steps = np.linspace(1,len(agn_data[0]-1),num = len(agn_data[0]))\n",
    "plt.scatter(steps,agn_data[0])\n",
    "plt.title('agn example')\n",
    "\n",
    "# var stars\n",
    "plt.figure()\n",
    "steps = np.linspace(1,len(vs_data[0]-1),num = len(vs_data[0]))\n",
    "plt.scatter(steps,vs_data[0])\n",
    "plt.title('var star example')"
   ]
  },
  {
   "cell_type": "markdown",
   "metadata": {},
   "source": [
    "### Padding for data, one hot encoding for labels"
   ]
  },
  {
   "cell_type": "code",
   "execution_count": 37,
   "metadata": {},
   "outputs": [
    {
     "name": "stdout",
     "output_type": "stream",
     "text": [
      "Data shape:    (588, 36)\n",
      "Labels shape:  (588, 3)\n"
     ]
    }
   ],
   "source": [
    "# Add padding for timesteps since curves will have different number of points\n",
    "#TODO: Should this padding number be based on mean/median of training data? of ztf data?\n",
    "maxlen = int(medianP) # based on training data\n",
    "agn_pad = sequence.pad_sequences(agn_data, maxlen=maxlen)\n",
    "s_pad   = sequence.pad_sequences(s_data, maxlen=maxlen)\n",
    "vs_pad  = sequence.pad_sequences(vs_data, maxlen=maxlen)\n",
    "\n",
    "# All data for each type now size minSize x maxlen\n",
    "# Move all data into one array\n",
    "x = np.vstack((s_pad,agn_pad,vs_pad))\n",
    "\n",
    "# One hot encoding boi for labels\n",
    "# Keras one hot encoding needs to be 0 indexed but labels are currently 1,2,3\n",
    "# make them 0 (agn), 1 (supernova), 2 (var stars)\n",
    "agn_lab = agn_lab-1\n",
    "s_lab   = s_lab-1\n",
    "vs_lab  = vs_lab-1\n",
    "\n",
    "labels = np.hstack((s_lab,agn_lab,vs_lab))           # All labels in one long array (same order we stacked data)\n",
    "y = keras.utils.to_categorical(labels,num_classes=3) # y data now nx3 arrays, ex: y[0] = [0 1 0]\n",
    "\n",
    "print('Data shape:   ',x.shape)\n",
    "print('Labels shape: ',y.shape)"
   ]
  },
  {
   "cell_type": "markdown",
   "metadata": {},
   "source": [
    "### Train Test Split"
   ]
  },
  {
   "cell_type": "code",
   "execution_count": 38,
   "metadata": {
    "colab": {},
    "colab_type": "code",
    "id": "i_9TVwnBEhcQ"
   },
   "outputs": [
    {
     "name": "stdout",
     "output_type": "stream",
     "text": [
      "Train Data shape:  (499, 36, 1)\n",
      "Test Data shape:   (89, 36, 1)\n"
     ]
    }
   ],
   "source": [
    "# Test train split\n",
    "X_train, X_test, y_train, y_test = train_test_split( \n",
    "        x, y, test_size=0.15)\n",
    "\n",
    "# Input to lstm must be 3 dimensional (nSamples,timesteps,features)\n",
    "X_train = np.reshape(X_train,(X_train.shape[0],X_train.shape[1],1))\n",
    "X_test = np.reshape(X_test,(X_test.shape[0],X_test.shape[1],1))\n",
    "\n",
    "print('Train Data shape: ',X_train.shape)\n",
    "print('Test Data shape:  ',X_test.shape)"
   ]
  },
  {
   "cell_type": "markdown",
   "metadata": {},
   "source": [
    "## Create and Train model"
   ]
  },
  {
   "cell_type": "code",
   "execution_count": 53,
   "metadata": {
    "colab": {},
    "colab_type": "code",
    "id": "kR3jDk9jEmPE"
   },
   "outputs": [
    {
     "name": "stdout",
     "output_type": "stream",
     "text": [
      "Train on 499 samples, validate on 89 samples\n",
      "Epoch 1/50\n",
      " - 46s - loss: 1.1044 - acc: 0.3186 - val_loss: 1.0885 - val_acc: 0.3820\n",
      "Epoch 2/50\n",
      " - 42s - loss: 1.0755 - acc: 0.4289 - val_loss: 1.0130 - val_acc: 0.5169\n",
      "Epoch 3/50\n",
      " - 120s - loss: 1.0416 - acc: 0.4469 - val_loss: 0.9830 - val_acc: 0.5281\n",
      "Epoch 4/50\n",
      " - 16s - loss: 1.0360 - acc: 0.4289 - val_loss: 0.9855 - val_acc: 0.5393\n",
      "Epoch 5/50\n",
      " - 15s - loss: 1.0294 - acc: 0.4509 - val_loss: 0.9876 - val_acc: 0.4944\n",
      "Epoch 6/50\n",
      " - 14s - loss: 1.0192 - acc: 0.4489 - val_loss: 0.9736 - val_acc: 0.5506\n",
      "Epoch 7/50\n",
      " - 14s - loss: 1.0215 - acc: 0.4549 - val_loss: 0.9801 - val_acc: 0.4944\n",
      "Epoch 8/50\n",
      " - 13s - loss: 1.0204 - acc: 0.4529 - val_loss: 1.0221 - val_acc: 0.4494\n",
      "Epoch 9/50\n",
      " - 13s - loss: 1.0112 - acc: 0.4489 - val_loss: 0.9790 - val_acc: 0.5281\n",
      "Epoch 10/50\n",
      " - 13s - loss: 1.0042 - acc: 0.4589 - val_loss: 0.9802 - val_acc: 0.4607\n",
      "Epoch 11/50\n",
      " - 14s - loss: 1.0011 - acc: 0.4830 - val_loss: 1.0130 - val_acc: 0.4494\n",
      "Epoch 12/50\n",
      " - 14s - loss: 0.9950 - acc: 0.4529 - val_loss: 1.0014 - val_acc: 0.4831\n",
      "Epoch 13/50\n",
      " - 15s - loss: 1.0097 - acc: 0.4770 - val_loss: 1.0033 - val_acc: 0.4831\n",
      "Epoch 14/50\n",
      " - 15s - loss: 1.0035 - acc: 0.4549 - val_loss: 1.0077 - val_acc: 0.4719\n",
      "Epoch 15/50\n",
      " - 14s - loss: 0.9983 - acc: 0.4529 - val_loss: 1.0048 - val_acc: 0.4719\n",
      "Epoch 16/50\n",
      " - 14s - loss: 0.9954 - acc: 0.4830 - val_loss: 0.9676 - val_acc: 0.5169\n",
      "Epoch 17/50\n",
      " - 14s - loss: 0.9983 - acc: 0.4589 - val_loss: 0.9614 - val_acc: 0.5169\n",
      "Epoch 18/50\n",
      " - 14s - loss: 0.9955 - acc: 0.4729 - val_loss: 1.0072 - val_acc: 0.4607\n",
      "Epoch 19/50\n",
      " - 14s - loss: 0.9833 - acc: 0.4870 - val_loss: 0.9636 - val_acc: 0.5056\n",
      "Epoch 20/50\n",
      " - 15s - loss: 0.9871 - acc: 0.4749 - val_loss: 0.9513 - val_acc: 0.4944\n",
      "Epoch 21/50\n",
      " - 15s - loss: 0.9831 - acc: 0.4830 - val_loss: 0.9444 - val_acc: 0.4944\n",
      "Epoch 22/50\n",
      " - 13s - loss: 0.9852 - acc: 0.4870 - val_loss: 0.9695 - val_acc: 0.4944\n",
      "Epoch 23/50\n",
      " - 13s - loss: 0.9795 - acc: 0.4709 - val_loss: 0.9699 - val_acc: 0.6067\n",
      "Epoch 24/50\n",
      " - 14s - loss: 0.9910 - acc: 0.4669 - val_loss: 0.9708 - val_acc: 0.5056\n",
      "Epoch 25/50\n",
      " - 14s - loss: 0.9754 - acc: 0.4790 - val_loss: 0.9390 - val_acc: 0.5281\n",
      "Epoch 26/50\n",
      " - 15s - loss: 0.9762 - acc: 0.4850 - val_loss: 0.9514 - val_acc: 0.5169\n",
      "Epoch 27/50\n",
      " - 17s - loss: 0.9816 - acc: 0.4729 - val_loss: 0.9996 - val_acc: 0.4831\n",
      "Epoch 28/50\n",
      " - 15s - loss: 0.9768 - acc: 0.5010 - val_loss: 0.9502 - val_acc: 0.4831\n",
      "Epoch 29/50\n",
      " - 15s - loss: 0.9783 - acc: 0.4709 - val_loss: 0.9641 - val_acc: 0.5393\n",
      "Epoch 30/50\n",
      " - 14s - loss: 0.9713 - acc: 0.4810 - val_loss: 0.9423 - val_acc: 0.5056\n",
      "Epoch 31/50\n",
      " - 14s - loss: 0.9789 - acc: 0.4770 - val_loss: 0.9502 - val_acc: 0.5169\n",
      "Epoch 32/50\n",
      " - 13s - loss: 0.9727 - acc: 0.4970 - val_loss: 0.9607 - val_acc: 0.4831\n",
      "Epoch 33/50\n",
      " - 14s - loss: 0.9665 - acc: 0.4790 - val_loss: 0.9472 - val_acc: 0.4944\n",
      "Epoch 34/50\n",
      " - 14s - loss: 0.9666 - acc: 0.4870 - val_loss: 0.9631 - val_acc: 0.4831\n",
      "Epoch 35/50\n",
      " - 14s - loss: 0.9707 - acc: 0.4770 - val_loss: 0.9521 - val_acc: 0.5056\n",
      "Epoch 36/50\n",
      " - 14s - loss: 0.9658 - acc: 0.4569 - val_loss: 0.9714 - val_acc: 0.5056\n",
      "Epoch 37/50\n",
      " - 15s - loss: 0.9676 - acc: 0.4910 - val_loss: 0.9521 - val_acc: 0.5056\n",
      "Epoch 38/50\n",
      " - 14s - loss: 0.9697 - acc: 0.4609 - val_loss: 0.9591 - val_acc: 0.4831\n",
      "Epoch 39/50\n",
      " - 15s - loss: 0.9572 - acc: 0.4850 - val_loss: 0.9656 - val_acc: 0.4944\n",
      "Epoch 40/50\n",
      " - 15s - loss: 0.9603 - acc: 0.4930 - val_loss: 0.9563 - val_acc: 0.4719\n",
      "Epoch 41/50\n",
      " - 14s - loss: 0.9606 - acc: 0.4830 - val_loss: 0.9908 - val_acc: 0.5506\n",
      "Epoch 42/50\n",
      " - 14s - loss: 0.9781 - acc: 0.4810 - val_loss: 0.9408 - val_acc: 0.4831\n",
      "Epoch 43/50\n",
      " - 14s - loss: 0.9636 - acc: 0.4749 - val_loss: 0.9563 - val_acc: 0.4607\n",
      "Epoch 44/50\n",
      " - 14s - loss: 0.9865 - acc: 0.4890 - val_loss: 0.9936 - val_acc: 0.4382\n",
      "Epoch 45/50\n",
      " - 14s - loss: 0.9722 - acc: 0.4990 - val_loss: 0.9314 - val_acc: 0.5056\n",
      "Epoch 46/50\n",
      " - 14s - loss: 0.9598 - acc: 0.4810 - val_loss: 0.9428 - val_acc: 0.5618\n",
      "Epoch 47/50\n",
      " - 14s - loss: 0.9519 - acc: 0.5150 - val_loss: 0.9523 - val_acc: 0.4270\n",
      "Epoch 48/50\n",
      " - 14s - loss: 0.9704 - acc: 0.4950 - val_loss: 0.9542 - val_acc: 0.4607\n",
      "Epoch 49/50\n",
      " - 14s - loss: 0.9606 - acc: 0.4830 - val_loss: 0.9626 - val_acc: 0.4607\n",
      "Epoch 50/50\n",
      " - 14s - loss: 0.9568 - acc: 0.4950 - val_loss: 0.9433 - val_acc: 0.5056\n",
      "89/89 [==============================] - 1s 9ms/step\n",
      "Test accuracy:  0.5056179775280899\n"
     ]
    }
   ],
   "source": [
    "# model params\n",
    "num_classes = y.shape[1]\n",
    "batch_size = 1\n",
    "\n",
    "# Create model\n",
    "model = Sequential()\n",
    "model.add(LSTM(5, batch_input_shape = (batch_size,X_train.shape[1],1), return_sequences=True, stateful=True))\n",
    "#model.add(LSTM(60, return_sequences=True, stateful=True))\n",
    "model.add(LSTM(5, stateful=True))\n",
    "model.add(Dense(num_classes, activation='softmax'))\n",
    "\n",
    "#model.compile(loss = \"mean_squared_error\", optimizer = \"adam\")\n",
    "model.compile(loss='categorical_crossentropy', optimizer='adam', metrics=['accuracy'])\n",
    "\n",
    "# Train\n",
    "#model.fit(train_X, train_Y, epochs = 100, batch_size = 10, verbose = 2)\n",
    "model.fit(X_train, y_train, validation_data=(X_test,y_test), epochs=50, batch_size=1,verbose = 2)\n",
    "\n",
    "# Evaluate\n",
    "score = model.evaluate(X_test, y_test, batch_size=1)\n",
    "print('Test accuracy: ', score[1])\n",
    "\n",
    "# save model\n",
    "#keras.models.save_model('model.hd5')"
   ]
  },
  {
   "cell_type": "markdown",
   "metadata": {},
   "source": [
    "## Using the model to predict a new lightcurve"
   ]
  },
  {
   "cell_type": "code",
   "execution_count": 0,
   "metadata": {
    "colab": {},
    "colab_type": "code",
    "id": "aUJGAS7gTRND"
   },
   "outputs": [],
   "source": [
    "# \n",
    "model = keras.models.load_model('model.hd5')\n",
    "\n",
    "#l = lightcurve('575406494915010184.avro')\n",
    "#mag = l.mag\n",
    "\n",
    "# add padding for time steps\n",
    "#maxlen = 50\n",
    "#mag_pad = sequence.pad_sequences(mag_data, maxlen=maxlen)\n",
    "#data = np.reshape(mag_pad,(mag_pad.shape[0],mag_pad.shape[1],1))\n",
    "test = X_test[0,:,:]\n",
    "test = sequence.pad_sequences(test, maxlen=maxlen)\n",
    "test = np.reshape(test,(test.shape[0],test.shape[1],1))\n",
    "print(test.shape)\n",
    "model.predict(test,batch_size = 1)\n"
   ]
  }
 ],
 "metadata": {
  "accelerator": "GPU",
  "colab": {
   "collapsed_sections": [],
   "name": "hacky_boi.ipynb",
   "private_outputs": true,
   "provenance": [],
   "version": "0.3.2"
  },
  "kernelspec": {
   "display_name": "Python 3",
   "language": "python",
   "name": "python3"
  },
  "language_info": {
   "codemirror_mode": {
    "name": "ipython",
    "version": 3
   },
   "file_extension": ".py",
   "mimetype": "text/x-python",
   "name": "python",
   "nbconvert_exporter": "python",
   "pygments_lexer": "ipython3",
   "version": "3.5.2"
  }
 },
 "nbformat": 4,
 "nbformat_minor": 1
}
